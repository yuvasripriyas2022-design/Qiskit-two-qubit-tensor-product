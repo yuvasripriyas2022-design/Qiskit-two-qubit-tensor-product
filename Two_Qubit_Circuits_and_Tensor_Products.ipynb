{
  "cells": [
    {
      "cell_type": "code",
      "source": [
        "!pip install qiskit qiskit-aer pylatexenc -q\n"
      ],
      "metadata": {
        "colab": {
          "base_uri": "https://localhost:8080/"
        },
        "id": "DbRxo_Xly4WC",
        "outputId": "4c8de5cc-1333-4214-a59f-5c81611f4583"
      },
      "id": "DbRxo_Xly4WC",
      "execution_count": 1,
      "outputs": [
        {
          "output_type": "stream",
          "name": "stdout",
          "text": [
            "\u001b[?25l     \u001b[90m━━━━━━━━━━━━━━━━━━━━━━━━━━━━━━━━━━━━━━━━\u001b[0m \u001b[32m0.0/162.6 kB\u001b[0m \u001b[31m?\u001b[0m eta \u001b[36m-:--:--\u001b[0m\r\u001b[2K     \u001b[90m━━━━━━━━━━━━━━━━━━━━━━━━━━━━━━━━━━━━━━━\u001b[0m \u001b[32m162.6/162.6 kB\u001b[0m \u001b[31m6.6 MB/s\u001b[0m eta \u001b[36m0:00:00\u001b[0m\n",
            "\u001b[?25h  Preparing metadata (setup.py) ... \u001b[?25l\u001b[?25hdone\n",
            "\u001b[2K   \u001b[90m━━━━━━━━━━━━━━━━━━━━━━━━━━━━━━━━━━━━━━━━\u001b[0m \u001b[32m8.0/8.0 MB\u001b[0m \u001b[31m97.7 MB/s\u001b[0m eta \u001b[36m0:00:00\u001b[0m\n",
            "\u001b[2K   \u001b[90m━━━━━━━━━━━━━━━━━━━━━━━━━━━━━━━━━━━━━━━━\u001b[0m \u001b[32m12.4/12.4 MB\u001b[0m \u001b[31m124.2 MB/s\u001b[0m eta \u001b[36m0:00:00\u001b[0m\n",
            "\u001b[2K   \u001b[90m━━━━━━━━━━━━━━━━━━━━━━━━━━━━━━━━━━━━━━━━\u001b[0m \u001b[32m2.2/2.2 MB\u001b[0m \u001b[31m88.7 MB/s\u001b[0m eta \u001b[36m0:00:00\u001b[0m\n",
            "\u001b[2K   \u001b[90m━━━━━━━━━━━━━━━━━━━━━━━━━━━━━━━━━━━━━━━━\u001b[0m \u001b[32m49.5/49.5 kB\u001b[0m \u001b[31m3.8 MB/s\u001b[0m eta \u001b[36m0:00:00\u001b[0m\n",
            "\u001b[?25h  Building wheel for pylatexenc (setup.py) ... \u001b[?25l\u001b[?25hdone\n"
          ]
        }
      ]
    },
    {
      "cell_type": "code",
      "execution_count": 2,
      "id": "bcfe036b",
      "metadata": {
        "id": "bcfe036b"
      },
      "outputs": [],
      "source": [
        "# Import libraries\n",
        "from qiskit import QuantumCircuit, transpile\n",
        "from qiskit_aer import AerSimulator\n",
        "from qiskit.visualization import plot_histogram, plot_bloch_multivector\n",
        "from qiskit.quantum_info import Statevector\n",
        "import matplotlib.pyplot as plt\n"
      ]
    },
    {
      "cell_type": "code",
      "source": [
        "# Initialize simulator\n",
        "simulator = AerSimulator()\n"
      ],
      "metadata": {
        "id": "756nXICn1Bc3"
      },
      "id": "756nXICn1Bc3",
      "execution_count": 3,
      "outputs": []
    },
    {
      "cell_type": "code",
      "source": [
        "#Block 1: Superposition with Hadamard Gates\n",
        "print(\"\\n🟦 Block 1: Superposition (Hadamard Gates on both qubits)\")\n",
        "qc1 = QuantumCircuit(2, 2)\n",
        "qc1.h(0)\n",
        "qc1.h(1)\n",
        "qc1.measure([0, 1], [0, 1])\n",
        "\n",
        "compiled1 = transpile(qc1, simulator)\n",
        "result1 = simulator.run(compiled1, shots=1024).result()\n",
        "counts1 = result1.get_counts()\n",
        "print(\"Measurement Results (Superposition):\", counts1)\n",
        "plot_histogram(counts1)\n",
        "plt.show()"
      ],
      "metadata": {
        "colab": {
          "base_uri": "https://localhost:8080/"
        },
        "id": "eDhUQ9xT1C_o",
        "outputId": "724cad0f-cd24-48c2-c2f3-a41501b7f381"
      },
      "id": "eDhUQ9xT1C_o",
      "execution_count": 4,
      "outputs": [
        {
          "output_type": "stream",
          "name": "stdout",
          "text": [
            "\n",
            "🟦 Block 1: Superposition (Hadamard Gates on both qubits)\n",
            "Measurement Results (Superposition): {'11': 266, '01': 251, '10': 259, '00': 248}\n"
          ]
        }
      ]
    },
    {
      "cell_type": "code",
      "source": [
        "#Block 2: Bit Flip (X Gate on first qubit)\n",
        "print(\"\\n🟨 Block 2: Bit Flip (X Gate on qubit 0)\")\n",
        "qc2 = QuantumCircuit(2, 2)\n",
        "qc2.x(0)\n",
        "qc2.measure([0, 1], [0, 1])\n",
        "\n",
        "compiled2 = transpile(qc2, simulator)\n",
        "result2 = simulator.run(compiled2, shots=1024).result()\n",
        "counts2 = result2.get_counts()\n",
        "print(\"Measurement Results (Swap Roles):\", counts2)\n",
        "plot_histogram(counts2)\n",
        "plt.show()"
      ],
      "metadata": {
        "colab": {
          "base_uri": "https://localhost:8080/"
        },
        "id": "WoXYGAQC1GGU",
        "outputId": "771e8f05-1757-4529-bfc6-3094dcf36996"
      },
      "id": "WoXYGAQC1GGU",
      "execution_count": 5,
      "outputs": [
        {
          "output_type": "stream",
          "name": "stdout",
          "text": [
            "\n",
            "🟨 Block 2: Bit Flip (X Gate on qubit 0)\n",
            "Measurement Results (Swap Roles): {'01': 1024}\n"
          ]
        }
      ]
    },
    {
      "cell_type": "code",
      "source": [
        "# Block 3: Entanglement (Hadamard + CNOT)\n",
        "print(\"\\n🟧 Block 3: Entanglement (Bell State Creation)\")\n",
        "qc3 = QuantumCircuit(2, 2)\n",
        "qc3.h(0)\n",
        "qc3.cx(0, 1)\n",
        "qc3.measure([0, 1], [0, 1])\n",
        "\n",
        "compiled3 = transpile(qc3, simulator)\n",
        "result3 = simulator.run(compiled3, shots=1024).result()\n",
        "counts3 = result3.get_counts()\n",
        "print(\"Measurement Results (Entanglement):\", counts3)\n",
        "plot_histogram(counts3)\n",
        "plt.show()\n"
      ],
      "metadata": {
        "id": "4THEs7hr1HpE",
        "colab": {
          "base_uri": "https://localhost:8080/"
        },
        "outputId": "f5e845ad-cfc0-4fcc-fb04-1341c246e6cc"
      },
      "id": "4THEs7hr1HpE",
      "execution_count": 6,
      "outputs": [
        {
          "output_type": "stream",
          "name": "stdout",
          "text": [
            "\n",
            "🟧 Block 3: Entanglement (Bell State Creation)\n",
            "Measurement Results (Entanglement): {'11': 531, '00': 493}\n"
          ]
        }
      ]
    },
    {
      "cell_type": "code",
      "source": [
        "# Block 4: Stability Test (4096 shots)\n",
        "print(\"\\n🟥 Block 4: Superposition Stability with 4096 Shots\")\n",
        "qc4 = QuantumCircuit(2, 2)\n",
        "qc4.h(0)\n",
        "qc4.h(1)\n",
        "qc4.measure([0, 1], [0, 1])\n",
        "\n",
        "compiled4 = transpile(qc4, simulator)\n",
        "result4 = simulator.run(compiled4, shots=4096).result()\n",
        "counts4 = result4.get_counts()\n",
        "print(\"Measurement Results with 4096 shots (Improved Stability):\", counts4)\n",
        "plot_histogram(counts4)\n",
        "plt.show()\n"
      ],
      "metadata": {
        "colab": {
          "base_uri": "https://localhost:8080/"
        },
        "id": "Jt8Ne3kH1Jcc",
        "outputId": "a2e13ffc-aa77-4e8c-9367-aeb1ab991ec4"
      },
      "id": "Jt8Ne3kH1Jcc",
      "execution_count": 7,
      "outputs": [
        {
          "output_type": "stream",
          "name": "stdout",
          "text": [
            "\n",
            "🟥 Block 4: Superposition Stability with 4096 Shots\n",
            "Measurement Results with 4096 shots (Improved Stability): {'01': 994, '10': 1024, '00': 1045, '11': 1033}\n"
          ]
        }
      ]
    },
    {
      "cell_type": "code",
      "source": [
        "# Block 5: Bloch Visualization of Entangled State\n",
        "print(\"\\n🟪 Block 5: Bloch Visualization (Entangled Bell State)\")\n",
        "qc5 = QuantumCircuit(2)\n",
        "qc5.h(0)\n",
        "qc5.cx(0, 1)\n",
        "\n",
        "# Get the statevector before measurement\n",
        "state = Statevector.from_instruction(qc5)\n",
        "plot_bloch_multivector(state)\n",
        "plt.show()\n",
        "\n",
        "# Now measure to verify entanglement pattern\n",
        "qc5.measure_all()\n",
        "compiled5 = transpile(qc5, simulator)\n",
        "result5 = simulator.run(compiled5, shots=1024).result()\n",
        "counts5 = result5.get_counts()\n",
        "print(\"Measurement Results (Bloch Visualization):\", counts5)\n",
        "plot_histogram(counts5)\n",
        "plt.show()\n",
        "\n",
        "print(\"\\n✅ All quantum tasks executed successfully!\")"
      ],
      "metadata": {
        "colab": {
          "base_uri": "https://localhost:8080/"
        },
        "id": "J7BWYU-oSNGD",
        "outputId": "c209fd05-6515-4ac8-a6c7-2ec379fa11b3"
      },
      "id": "J7BWYU-oSNGD",
      "execution_count": 8,
      "outputs": [
        {
          "output_type": "stream",
          "name": "stdout",
          "text": [
            "\n",
            "🟪 Block 5: Bloch Visualization (Entangled Bell State)\n",
            "Measurement Results (Bloch Visualization): {'00': 508, '11': 516}\n",
            "\n",
            "✅ All quantum tasks executed successfully!\n"
          ]
        }
      ]
    }
  ],
  "metadata": {
    "colab": {
      "provenance": []
    },
    "language_info": {
      "name": "python"
    },
    "kernelspec": {
      "name": "python3",
      "display_name": "Python 3"
    }
  },
  "nbformat": 4,
  "nbformat_minor": 5
}